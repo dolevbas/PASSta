{
 "cells": [
  {
   "cell_type": "markdown",
   "metadata": {},
   "source": [
    "# Using ICED to compare between planetary catalouges\n",
    "\n",
    "This notebook will demonstrate how to use ICED to compare between planetary catalouges.\n",
    "We assume that some elementary usage of WED to compare between planetary system architecutes is known, but if not, please check out <a href=\"https://github.com/dolevbas/PASSta/blob/main/WED%20between%20architectures.ipynb\">this link</a> prior to reading following example.  \n",
    "\n",
    "As usual, let's start by importing some packages:"
   ]
  },
  {
   "cell_type": "code",
   "execution_count": 28,
   "metadata": {},
   "outputs": [],
   "source": [
    "import numpy as np\n",
    "\n",
    "import random\n",
    "\n",
    "from PASSta import ICED"
   ]
  },
  {
   "cell_type": "markdown",
   "metadata": {},
   "source": [
    "Next, we import 3 Kepler high-multiplicity planet systems and use them as our planetary sample (catalouge):"
   ]
  },
  {
   "cell_type": "code",
   "execution_count": 29,
   "metadata": {},
   "outputs": [],
   "source": [
    "koi_116 = np.load('koi_116.npz')['arr_0']  \n",
    "koi_117 = np.load('koi_117.npz')['arr_0'] \n",
    "koi_137 = np.load('koi_137.npz')['arr_0']\n",
    "\n",
    "PlSysCat = [[(np.log10(pl[0]), np.log10(pl[1]), pl[2]) for pl in koi_116], \n",
    "           [(np.log10(pl[0]), np.log10(pl[1]), pl[2]) for pl in koi_117],\n",
    "           [(np.log10(pl[0]), np.log10(pl[1]), pl[2]) for pl in koi_137]]\n"
   ]
  },
  {
   "cell_type": "markdown",
   "metadata": {},
   "source": [
    "Our catalouge is consisted of 3 planetary systems, where two systems have 4 planets and one system has 3 planets. For each system we list the planets orbital periods and radii (in log scale) and estimate of planet mass:"
   ]
  },
  {
   "cell_type": "code",
   "execution_count": 30,
   "metadata": {},
   "outputs": [
    {
     "name": "stdout",
     "output_type": "stream",
     "text": [
      "[[(1.64, 0.41, 4.77), (0.78, -0.07, 0.63), (1.38, -0.0043, 0.83), (1.13, 0.37, 4.02)], \n",
      "[(1.17, 0.49, 6.55), (0.69, 0.26, 2.58), (0.50, 0.19, 1.89), (0.90, 0.029, 0.96)], \n",
      "[(0.88, 0.69, 15.79), (1.17, 0.77, 21.9), (0.54, 0.32, 3.31)]]\n"
     ]
    }
   ],
   "source": [
    "print(PlSysCat)"
   ]
  },
  {
   "cell_type": "markdown",
   "metadata": {},
   "source": [
    "Now, let's repeat this approch and create two simulated catalouges where we noise the orbital periods of all planets at all systems by two diffrent STD: sig_i = 0.01; sig_ii = 0.1: "
   ]
  },
  {
   "cell_type": "code",
   "execution_count": 47,
   "metadata": {},
   "outputs": [],
   "source": [
    "sig_i, sig_ii = 0.01, 0.1\n",
    "\n",
    "PlSysCat_Simi = [[(np.random.normal(np.log10(pl[0]),sig_i), np.log10(pl[1]), pl[2]) for pl in koi_116], \n",
    "                [(np.random.normal(np.log10(pl[0]),sig_i), np.log10(pl[1]), pl[2]) for pl in koi_117],\n",
    "                [(np.random.normal(np.log10(pl[0]),sig_i), np.log10(pl[1]), pl[2]) for pl in koi_137]]\n",
    "\n",
    "PlSysCat_Simii = [[(np.random.normal(np.log10(pl[0]),sig_ii), np.log10(pl[1]), pl[2]) for pl in koi_116], \n",
    "                 [(np.random.normal(np.log10(pl[0]),sig_ii), np.log10(pl[1]), pl[2]) for pl in koi_117],\n",
    "                 [(np.random.normal(np.log10(pl[0]),sig_ii), np.log10(pl[1]), pl[2]) for pl in koi_137]]"
   ]
  },
  {
   "cell_type": "markdown",
   "metadata": {},
   "source": [
    "We can use ICED to estimate the difference between our original catalouge and the two simulated catalouges:"
   ]
  },
  {
   "cell_type": "code",
   "execution_count": 48,
   "metadata": {},
   "outputs": [
    {
     "name": "stdout",
     "output_type": "stream",
     "text": [
      "The distance between our catalouge and simulated catalouge i, is:  0.210\n",
      "The distance between our catalouge and simulated catalouge ii, is:  0.462\n"
     ]
    }
   ],
   "source": [
    "print('The distance between our catalouge and simulated catalouge i, is: ', ICED(PlSysCat, PlSysCat_Simi))\n",
    "print('The distance between our catalouge and simulated catalouge ii, is: ', ICED(PlSysCat, PlSysCat_Simii))"
   ]
  },
  {
   "cell_type": "markdown",
   "metadata": {},
   "source": [
    "As expected, we find larger distance (higher dissimilarity) between our original catalouge and the generated catalouge with higher STD."
   ]
  },
  {
   "cell_type": "markdown",
   "metadata": {},
   "source": [
    "Next, we shall produce two simulated catalouges where we change planet muliplicity of each system, allowing it to range between 2-max number of avlaibale planets (case iii), and 0-max number of avlaibale planets (case iv):"
   ]
  },
  {
   "cell_type": "code",
   "execution_count": 54,
   "metadata": {},
   "outputs": [],
   "source": [
    "PlSysCat_Simiii = [random.sample(pls, k=random.randint(2, len(pls)))  for pls in PlSysCat]\n",
    "PlSysCat_Simiv = [random.sample(pls, k=random.randint(0, len(pls)))  for pls in PlSysCat]"
   ]
  },
  {
   "cell_type": "markdown",
   "metadata": {},
   "source": [
    "and as before, we can use ICED to estimate the difference between our original catalouge these two simulated catalouges:"
   ]
  },
  {
   "cell_type": "code",
   "execution_count": 55,
   "metadata": {},
   "outputs": [
    {
     "name": "stdout",
     "output_type": "stream",
     "text": [
      "The distance between our catalouge and simulated catalouge iii, is:  0.340\n",
      "The distance between our catalouge and simulated catalouge iv, is:  0.496\n"
     ]
    }
   ],
   "source": [
    "print('The distance between our catalouge and simulated catalouge iii, is: ', ICED(PlSysCat, PlSysCat_Simiii))\n",
    "print('The distance between our catalouge and simulated catalouge iv, is: ', ICED(PlSysCat, PlSysCat_Simiv))"
   ]
  },
  {
   "cell_type": "markdown",
   "metadata": {},
   "source": [
    "As expected, we find larger distance (larger dissimilarity) between our original catalouge and the simulated catalouge having lower planet multiplicity."
   ]
  }
 ],
 "metadata": {
  "kernelspec": {
   "display_name": "Python 3",
   "language": "python",
   "name": "python3"
  },
  "language_info": {
   "codemirror_mode": {
    "name": "ipython",
    "version": 3
   },
   "file_extension": ".py",
   "mimetype": "text/x-python",
   "name": "python",
   "nbconvert_exporter": "python",
   "pygments_lexer": "ipython3",
   "version": "3.6.5"
  }
 },
 "nbformat": 4,
 "nbformat_minor": 2
}
