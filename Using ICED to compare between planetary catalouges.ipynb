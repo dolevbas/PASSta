{
 "cells": [
  {
   "cell_type": "markdown",
   "metadata": {},
   "source": [
    "# Using ICED to compare between planetary catalouges\n",
    "\n",
    "This notebook will demonstrate how to use ICED to compare between planetary catalouges.\n",
    "We assume that some elementary usage of WED to compare between planetary system architecutes is known, but if not, please check out <a href=\"https://github.com/dolevbas/PASSta/blob/main/WED%20between%20architectures.ipynb\">this link</a> prior to reading following example.  \n",
    "\n",
    "As usual, let's start by importing some package:"
   ]
  },
  {
   "cell_type": "code",
   "execution_count": 28,
   "metadata": {},
   "outputs": [],
   "source": [
    "import numpy as np\n",
    "import random\n",
    "from PASSta import ICED"
   ]
  },
  {
   "cell_type": "markdown",
   "metadata": {},
   "source": [
    "Next, we import 3 Kepler high-multiplicity planet systems and use them as our planetary sample (catalouge):"
   ]
  },
  {
   "cell_type": "code",
   "execution_count": 29,
   "metadata": {},
   "outputs": [],
   "source": [
    "koi_116 = np.load('koi_116.npz')['arr_0']  \n",
    "koi_117 = np.load('koi_117.npz')['arr_0'] \n",
    "koi_137 = np.load('koi_137.npz')['arr_0']\n",
    "\n",
    "PlSysCat = [[(np.log10(pl[0]), np.log10(pl[1]), pl[2]) for pl in koi_116], \n",
    "           [(np.log10(pl[0]), np.log10(pl[1]), pl[2]) for pl in koi_117],\n",
    "           [(np.log10(pl[0]), np.log10(pl[1]), pl[2]) for pl in koi_137]]\n"
   ]
  },
  {
   "cell_type": "markdown",
   "metadata": {},
   "source": [
    "Our catalouge is consisted of 3 planetary systems, where two systems have 4 planets and one system has 3 planets. For each system we list the planets orbital periods and radii (in log scale) and estimate of planet mass:"
   ]
  },
  {
   "cell_type": "code",
   "execution_count": 30,
   "metadata": {},
   "outputs": [
    {
     "name": "stdout",
     "output_type": "stream",
     "text": [
      "[[(1.6419145624189568, 0.41161970596323016, 4.77), (0.789927231125317, -0.07058107428570728, 0.63), (1.3798534311333521, -0.004364805402450088, 0.83), (1.132604369083732, 0.37106786227173627, 4.02)], [(1.168766556072491, 0.48713837547718647, 6.55), (0.6903235196686178, 0.2648178230095365, 2.58), (0.5024304843879298, 0.1903316981702915, 1.89), (0.9008204243717448, 0.029383777685209667, 0.96)], [(0.8831826829113397, 0.6972293427597176, 15.79), (1.1719870308236195, 0.7752462597402364, 21.9), (0.544649306290662, 0.3242824552976926, 3.31)]]\n"
     ]
    }
   ],
   "source": [
    "print(PlSysCat)"
   ]
  },
  {
   "cell_type": "markdown",
   "metadata": {},
   "source": [
    "Now, let's repeat this approch and create two simulated catalouges where we noise the orbital periods of all planets at all systems by two diffrent STD: sig_i = 0.1; sig_ii = 0.2: "
   ]
  },
  {
   "cell_type": "code",
   "execution_count": 47,
   "metadata": {},
   "outputs": [],
   "source": [
    "sig_i, sig_ii = 0.01, 0.1\n",
    "\n",
    "PlSysCat_Simi = [[(np.random.normal(np.log10(pl[0]),sig_i), np.log10(pl[1]), pl[2]) for pl in koi_116], \n",
    "                [(np.random.normal(np.log10(pl[0]),sig_i), np.log10(pl[1]), pl[2]) for pl in koi_117],\n",
    "                [(np.random.normal(np.log10(pl[0]),sig_i), np.log10(pl[1]), pl[2]) for pl in koi_137]]\n",
    "\n",
    "PlSysCat_Simii = [[(np.random.normal(np.log10(pl[0]),sig_ii), np.log10(pl[1]), pl[2]) for pl in koi_116], \n",
    "                 [(np.random.normal(np.log10(pl[0]),sig_ii), np.log10(pl[1]), pl[2]) for pl in koi_117],\n",
    "                 [(np.random.normal(np.log10(pl[0]),sig_ii), np.log10(pl[1]), pl[2]) for pl in koi_137]]"
   ]
  },
  {
   "cell_type": "markdown",
   "metadata": {},
   "source": [
    "We can use ICED to estimate the difference between our original catalouge and the two simulated catalouges:"
   ]
  },
  {
   "cell_type": "code",
   "execution_count": 48,
   "metadata": {},
   "outputs": [
    {
     "name": "stdout",
     "output_type": "stream",
     "text": [
      "The distance between our catalouge and simulated catalouge i, is:  0.21009604832129808\n",
      "The distance between our catalouge and simulated catalouge ii, is:  0.46194201918189826\n"
     ]
    }
   ],
   "source": [
    "print('The distance between our catalouge and simulated catalouge i, is: ', ICED(PlSysCat, PlSysCat_Simi))\n",
    "print('The distance between our catalouge and simulated catalouge ii, is: ', ICED(PlSysCat, PlSysCat_Simii))"
   ]
  },
  {
   "cell_type": "markdown",
   "metadata": {},
   "source": [
    "As expected, we find larger distance (higher dissimilarity) between our original catalouge and the generated catalouge with higher STD."
   ]
  },
  {
   "cell_type": "markdown",
   "metadata": {},
   "source": [
    "Next, we shall produce two simulated catalouges where we change planet muliplicity of each system, allowing it to range between 2-max number of avlaibale planets (case iii), and 0-max number of avlaibale planets (case iv):"
   ]
  },
  {
   "cell_type": "code",
   "execution_count": 54,
   "metadata": {},
   "outputs": [],
   "source": [
    "PlSysCat_Simiii = [random.sample(pls, k=random.randint(2, len(pls)))  for pls in PlSysCat]\n",
    "PlSysCat_Simiv = [random.sample(pls, k=random.randint(0, len(pls)))  for pls in PlSysCat]"
   ]
  },
  {
   "cell_type": "markdown",
   "metadata": {},
   "source": [
    "and as before, we can use ICED to estimate the difference between our original catalouge these two simulated catalouges:"
   ]
  },
  {
   "cell_type": "code",
   "execution_count": 55,
   "metadata": {},
   "outputs": [
    {
     "name": "stdout",
     "output_type": "stream",
     "text": [
      "The distance between our catalouge and simulated catalouge iii, is:  0.340168719112486\n",
      "The distance between our catalouge and simulated catalouge iv, is:  0.4956547308073521\n"
     ]
    }
   ],
   "source": [
    "print('The distance between our catalouge and simulated catalouge iii, is: ', ICED(PlSysCat, PlSysCat_Simiii))\n",
    "print('The distance between our catalouge and simulated catalouge iv, is: ', ICED(PlSysCat, PlSysCat_Simiv))"
   ]
  },
  {
   "cell_type": "markdown",
   "metadata": {},
   "source": [
    "As expected, we find larger distance (larger dissimilarity) between our original catalouge and the generated catalouge with lower planet multiplicity."
   ]
  }
 ],
 "metadata": {
  "kernelspec": {
   "display_name": "Python 3",
   "language": "python",
   "name": "python3"
  },
  "language_info": {
   "codemirror_mode": {
    "name": "ipython",
    "version": 3
   },
   "file_extension": ".py",
   "mimetype": "text/x-python",
   "name": "python",
   "nbconvert_exporter": "python",
   "pygments_lexer": "ipython3",
   "version": "3.6.5"
  }
 },
 "nbformat": 4,
 "nbformat_minor": 2
}
