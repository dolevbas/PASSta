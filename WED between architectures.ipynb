{
 "cells": [
  {
   "cell_type": "markdown",
   "metadata": {},
   "source": [
    "# WED between architectures\n",
    "\n",
    "This notebook will demonstrate how to use WED to compare between architecutes.\n",
    "As usual, let's start by importing required packages:"
   ]
  },
  {
   "cell_type": "code",
   "execution_count": 1,
   "metadata": {},
   "outputs": [],
   "source": [
    "import numpy as np\n",
    "\n",
    "import matplotlib.pyplot as plt\n",
    "\n",
    "from PASSta import WED"
   ]
  },
  {
   "cell_type": "markdown",
   "metadata": {},
   "source": [
    "Next, we import 3 Kepler high-multiplicity planet systems:"
   ]
  },
  {
   "cell_type": "code",
   "execution_count": 2,
   "metadata": {},
   "outputs": [],
   "source": [
    "\n",
    "koi_116 = np.load('koi_116.npz')['arr_0']  \n",
    "koi_117 = np.load('koi_117.npz')['arr_0'] \n",
    "koi_137 = np.load('koi_137.npz')['arr_0']\n"
   ]
  },
  {
   "cell_type": "markdown",
   "metadata": {},
   "source": [
    "Let's plot the systems planet properites over the Period-Radius phase sapce (with size proportinal to planet mass):"
   ]
  },
  {
   "cell_type": "code",
   "execution_count": 3,
   "metadata": {},
   "outputs": [
    {
     "data": {
      "text/plain": [
       "<matplotlib.legend.Legend at 0x2257150de80>"
      ]
     },
     "execution_count": 3,
     "metadata": {},
     "output_type": "execute_result"
    },
    {
     "data": {
      "image/png": "[encoded data removed]",
      "text/plain": [
       "<Figure size 504x504 with 1 Axes>"
      ]
     },
     "metadata": {
      "needs_background": "light"
     },
     "output_type": "display_data"
    }
   ],
   "source": [
    "\n",
    "fig, ax = plt.subplots(figsize=(7,7))\n",
    "plt.scatter([pl[0] for pl in koi_116], [pl[1] for pl in koi_116], s=np.array([pl[2] for pl in koi_116])*10, label='KOI-116')\n",
    "plt.scatter([pl[0] for pl in koi_117], [pl[1] for pl in koi_117], s=np.array([pl[2] for pl in koi_117])*10, label='KOI-117')\n",
    "plt.scatter([pl[0] for pl in koi_137], [pl[1] for pl in koi_137], s=np.array([pl[2] for pl in koi_137])*10, label='KOI-137')\n",
    "plt.xscale('log')\n",
    "plt.yscale('log')\n",
    "plt.rc('font', family='serif', size=12)\n",
    "plt.rc('text', usetex=True)\n",
    "plt.xlabel('Period [days]', fontsize=18)\n",
    "plt.ylabel(r'$\\mathrm{R~[}R_{\\oplus} \\mathrm{]} $', fontsize=18)\n",
    "plt.legend()"
   ]
  },
  {
   "cell_type": "markdown",
   "metadata": {},
   "source": [
    "To estimate the WED between these architectures, we can simply use (note the use of log scale in planet period and radius properties):"
   ]
  },
  {
   "cell_type": "code",
   "execution_count": 4,
   "metadata": {},
   "outputs": [
    {
     "name": "stdout",
     "output_type": "stream",
     "text": [
      "The WED between KOI-116 and KOI-117, is:  0.631\n",
      "The WED between KOI-117 and KOI-137, is:  0.642\n",
      "The WED between KOI-116 and KOI-137, is:  0.822\n"
     ]
    }
   ],
   "source": [
    "print('The WED between KOI-116 and KOI-117, is: ', WED([(np.log10(pl[0]), np.log10(pl[1]), pl[2]) for pl in koi_116],\n",
    "                                                       [(np.log10(pl[0]), np.log10(pl[1]), pl[2]) for pl in koi_117]))\n",
    "\n",
    "print('The WED between KOI-117 and KOI-137, is: ',WED([(np.log10(pl[0]), np.log10(pl[1]), pl[2]) for pl in koi_117],\n",
    "                                                      [(np.log10(pl[0]), np.log10(pl[1]), pl[2]) for pl in koi_137]))\n",
    "\n",
    "print('The WED between KOI-116 and KOI-137, is: ',WED([(np.log10(pl[0]), np.log10(pl[1]), pl[2]) for pl in koi_116],\n",
    "                                                      [(np.log10(pl[0]), np.log10(pl[1]), pl[2]) for pl in koi_137]))"
   ]
  }
 ],
 "metadata": {
  "kernelspec": {
   "display_name": "Python 3",
   "language": "python",
   "name": "python3"
  },
  "language_info": {
   "codemirror_mode": {
    "name": "ipython",
    "version": 3
   },
   "file_extension": ".py",
   "mimetype": "text/x-python",
   "name": "python",
   "nbconvert_exporter": "python",
   "pygments_lexer": "ipython3",
   "version": "3.6.5"
  }
 },
 "nbformat": 4,
 "nbformat_minor": 2
}
